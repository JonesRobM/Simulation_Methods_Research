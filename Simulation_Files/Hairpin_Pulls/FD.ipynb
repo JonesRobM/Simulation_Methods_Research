{
 "cells": [
  {
   "cell_type": "code",
   "execution_count": null,
   "metadata": {},
   "outputs": [],
   "source": [
    "import pandas as pd\n",
    "import numpy as np\n",
    "import matplotlib.pyplot as plt\n",
    "\n",
    "Data=pd.read_csv('force-vs-distance-v-0-1.dat',index_col=0,header=None, delimiter='\\t')\n",
    "\n",
    "X=list(Data.index.copy())\n",
    "\n",
    "for x in range(len(X)):\n",
    "    X[x]=np.abs(X[x])\n",
    "\n",
    "    \n",
    "\"\"\"\"\"\"\"\"\"\"\"\"\"\"\"\"\"\"\"\"\"\"\"\"\"\"\"\"\"\"\"\"\"\n",
    "\n",
    "All displacement values\n",
    "are given as negative which\n",
    "is highly non-physical.\n",
    "Hence taking absolute.\n",
    "\n",
    "\"\"\"\"\"\"\"\"\"\"\"\"\"\"\"\"\"\"\"\"\"\"\"\"\"\"\"\"\"\"\"\"\""
   ]
  },
  {
   "cell_type": "code",
   "execution_count": null,
   "metadata": {},
   "outputs": [],
   "source": [
    "\"\"\"\"\"\"\"\"\"\"\"\"\"\"\"\"\"\"\"\"\"\"\"\"\"\"\"\"\"\"\"\"\"\n",
    "\n",
    "Graphing the force-distance\n",
    "profile.\n",
    "\n",
    "\"\"\"\"\"\"\"\"\"\"\"\"\"\"\"\"\"\"\"\"\"\"\"\"\"\"\"\"\"\"\"\"\"\n",
    "\n",
    "fig, ax =plt.subplots()\n",
    "l1=ax.scatter(X,Data,color='b',label=\"V=$0.1\\AA ps^{-1}$\"); ax.plot(X,Data, color='k',alpha=0.33,linestyle='--')\n",
    "ax.set_ylabel('Force $(kJ mol^{−1} nm^{−1})$', fontsize=14)\n",
    "ax.set_xlabel('End to end distance (nm)', fontsize=14)\n",
    "fig.legend(title=\"Velocities\", loc=\"center left\", bbox_to_anchor=(1, 0, 0.5, 1))\n",
    "\n",
    "plt.show()"
   ]
  }
 ],
 "metadata": {
  "kernelspec": {
   "display_name": "Python 3",
   "language": "python",
   "name": "python3"
  },
  "language_info": {
   "codemirror_mode": {
    "name": "ipython",
    "version": 3
   },
   "file_extension": ".py",
   "mimetype": "text/x-python",
   "name": "python",
   "nbconvert_exporter": "python",
   "pygments_lexer": "ipython3",
   "version": "3.7.3"
  }
 },
 "nbformat": 4,
 "nbformat_minor": 2
}
