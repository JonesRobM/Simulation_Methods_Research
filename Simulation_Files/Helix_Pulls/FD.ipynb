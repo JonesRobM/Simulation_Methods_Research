{
 "cells": [
  {
   "cell_type": "code",
   "execution_count": null,
   "metadata": {},
   "outputs": [],
   "source": [
    "\"\"\"\"\"\"\"\"\"\"\"\"\"\"\"\"\"\"\"\"\"\"\"\"\"\"\"\"\"\n",
    "\n",
    "Initialise the system and \n",
    "load in the data.\n",
    "\n",
    "\"\"\"\"\"\"\"\"\"\"\"\"\"\"\"\"\"\"\"\"\"\"\"\"\"\"\"\"\"\n",
    "\n",
    "import pandas as pd\n",
    "import matplotlib.pyplot as plt\n",
    "import numpy as np\n",
    "\n",
    "\n",
    "Data1=pd.read_csv('force-vs-distance-v-0-1.dat',index_col=0,header=None, delimiter='\\t')\n",
    "\n",
    "Data2=pd.read_csv('force-vs-distance-v-0-01.dat',index_col=0,header=None, delimiter='\\t')\n",
    "\n",
    "Data3=pd.read_csv('force-vs-distance-v-0-001.dat',index_col=0,header=None, delimiter='\\t')\n",
    "\n",
    "Data4=pd.read_csv('force-vs-distance-v-0-0001.dat',index_col=0,header=None, delimiter='\\t')"
   ]
  },
  {
   "cell_type": "code",
   "execution_count": null,
   "metadata": {},
   "outputs": [],
   "source": [
    "Data1.columns=['Force-Distance Profile']; Data2.columns=['Force-Distance Profile'] \n",
    "Data3.columns=['Force-Distance Profile']; Data4.columns=['Force-Distance Profile']\n",
    "\n",
    "\n",
    "\"\"\"\"\"\"\"\"\"\"\"\"\"\"\"\"\"\"\"\"\"\"\"\"\"\"\"\"\"\n",
    "\n",
    "Naming each data-set.\n",
    "\n",
    "\"\"\"\"\"\"\"\"\"\"\"\"\"\"\"\"\"\"\"\"\"\"\"\"\"\"\"\"\""
   ]
  },
  {
   "cell_type": "code",
   "execution_count": null,
   "metadata": {},
   "outputs": [],
   "source": [
    "\"\"\"\"\"\"\"\"\"\"\"\"\"\"\"\"\"\"\"\"\"\"\"\"\"\"\"\"\"\"\"\"\"\"\"\n",
    "\n",
    "Given distance values are \n",
    "negative. Take abs value to\n",
    "plot physical quantities.\n",
    "\n",
    "\"\"\"\"\"\"\"\"\"\"\"\"\"\"\"\"\"\"\"\"\"\"\"\"\"\"\"\"\"\"\"\"\"\"\"\n",
    "\n",
    "\n",
    "X1=list(Data1.index.copy()); X2=list(Data2.index.copy())\n",
    "X3=list(Data3.index.copy()); X4=list(Data4.index.copy())\n",
    "\n",
    "for x in range(len(X1)):\n",
    "    X1[x]=np.abs(X1[x])\n",
    "for x in range(len(X2)):\n",
    "    X2[x]=np.abs(X2[x])\n",
    "for x in range(len(X3)):\n",
    "    X3[x]=np.abs(X3[x])\n",
    "for x in range(len(X4)):\n",
    "    X4[x]=np.abs(X4[x])"
   ]
  },
  {
   "cell_type": "code",
   "execution_count": null,
   "metadata": {},
   "outputs": [],
   "source": [
    "fig = plt.figure()\n",
    "ax = fig.add_subplot(111)    # The big subplot\n",
    "cur_axes = plt.gca()\n",
    "cur_axes.axes.get_xaxis().set_ticks([])\n",
    "cur_axes.axes.get_yaxis().set_ticks([])\n",
    "cur_axes.axes.get_xaxis().set_ticklabels([])\n",
    "cur_axes.axes.get_yaxis().set_ticklabels([])                #Remove axes from large sub-figure\n",
    "ax.spines['top'].set_color('none')\n",
    "ax.spines['bottom'].set_color('none')\n",
    "ax.spines['left'].set_color('none')\n",
    "ax.spines['right'].set_color('none')                        #Remove other features from large grid\n",
    "ax.set_alpha(alpha=0.1)\n",
    "ax1 = fig.add_subplot(221)\n",
    "ax2 = fig.add_subplot(222)\n",
    "ax3 = fig.add_subplot(223)\n",
    "ax4 = fig.add_subplot(224)\n",
    "\n",
    "fig.set_size_inches(8,8)\n",
    "\n",
    "l1=ax1.scatter(X1,Data1,color='g'); ax1.plot(X1,Data1, color='k',alpha=0.33,linestyle='--')\n",
    "l2=ax2.scatter(X2,Data2,color='b'); ax2.plot(X2,Data2, color='k',alpha=0.33,linestyle='--')\n",
    "l3=ax3.scatter(X3,Data3,color='r'); ax3.plot(X3,Data3, color='k',alpha=0.33,linestyle='--')\n",
    "l4=ax4.scatter(X4,Data4,color='m'); ax4.plot(X4,Data4, color='k',alpha=0.33,linestyle='--')\n",
    "\n",
    "\"\"\"\"\"\"\"\"\"\"\"\"\"\"\"\"\"\"\"\"\"\"\"\n",
    "\n",
    "Plot both scatter and\n",
    "a faint line plot.\n",
    "\n",
    "\"\"\"\"\"\"\"\"\"\"\"\"\"\"\"\"\"\"\"\"\"\"\"\n",
    "\n",
    "ax.set_ylabel('Force $(kJ mol^{−1} nm^{−1})$', fontsize=14)\n",
    "ax.set_xlabel('End to end distance (nm)', fontsize=14)\n",
    "ax.xaxis.labelpad = 50\n",
    "ax.yaxis.labelpad = 50\n",
    "fig.legend([l1, l2, l3,l4],[\"$V=1\\AA ps^{-1}$\", \"$V=0.1\\AA ps^{-1}$\", \"$V=0.001\\AA ps^{-1}$\",\"$V=0.0001\\AA ps^{-1}$\"], title=\"Velocities\", loc=\"center left\", bbox_to_anchor=(1, 0, 0.5, 1))\n",
    "\n",
    "\n",
    "plt.show()"
   ]
  },
  {
   "cell_type": "code",
   "execution_count": null,
   "metadata": {},
   "outputs": [],
   "source": []
  }
 ],
 "metadata": {
  "kernelspec": {
   "display_name": "Python 3",
   "language": "python",
   "name": "python3"
  },
  "language_info": {
   "codemirror_mode": {
    "name": "ipython",
    "version": 3
   },
   "file_extension": ".py",
   "mimetype": "text/x-python",
   "name": "python",
   "nbconvert_exporter": "python",
   "pygments_lexer": "ipython3",
   "version": "3.7.3"
  }
 },
 "nbformat": 4,
 "nbformat_minor": 2
}
